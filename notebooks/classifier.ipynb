{
 "cells": [
  {
   "cell_type": "code",
   "execution_count": 55,
   "metadata": {
    "collapsed": false
   },
   "outputs": [
    {
     "name": "stdout",
     "output_type": "stream",
     "text": [
      "1.3.0 2.0.8\n"
     ]
    }
   ],
   "source": [
    "from __future__ import print_function\n",
    "import numpy as np\n",
    "import glob\n",
    "import pandas as pd\n",
    "from random import shuffle\n",
    "\n",
    "\n",
    "import tensorflow\n",
    "import keras\n",
    "from keras.models import Sequential\n",
    "from keras.layers import Dense, Dropout, Flatten\n",
    "from keras.layers import Conv2D, MaxPooling2D\n",
    "from keras import backend as K\n",
    "from keras.callbacks import EarlyStopping\n",
    "%matplotlib inline\n",
    "import matplotlib.pyplot as plt\n",
    "\n",
    "#from keras.preprocessing.image import ImageDataGenerator\n",
    "\n",
    "import cv2\n",
    "WIDTH  = 64\n",
    "HEIGHT = 64\n",
    "\n",
    "\n",
    "batch_size = 16\n",
    "num_classes = 3\n",
    "epochs = 20\n",
    "\n",
    "np.random.seed(13)\n",
    "print( tensorflow.__version__,keras.__version__)"
   ]
  },
  {
   "cell_type": "code",
   "execution_count": 39,
   "metadata": {
    "collapsed": true
   },
   "outputs": [],
   "source": [
    "def build_train_set():\n",
    "    \n",
    "    \n",
    "    images =  glob.glob(\"/disk/projects/selfdriving/shared/img4/*.jpg\") \n",
    "    dataset = []\n",
    "    for file in images:\n",
    "        \n",
    "        label = int( file.split(\"_\")[-1].split(\".\")[0] )\n",
    "        if label==4:\n",
    "            continue\n",
    "        #print(label)\n",
    "        img = cv2.imread(file)\n",
    "        \n",
    "        img = cv2.cvtColor(img, cv2.COLOR_BGR2RGB)\n",
    "        img = cv2.resize( img, (WIDTH, HEIGHT))\n",
    "        \n",
    "        \n",
    "        ## flip image for data augmentation\n",
    "        img2 = cv2.flip( img.copy(), 1 )\n",
    "        #plt.imshow(img2)\n",
    "        \n",
    "            \n",
    "        dataset.append( (np.array(img), label))\n",
    "        dataset.append( (np.array(img2), label))\n",
    "\n",
    "    shuffle(dataset)\n",
    "        \n",
    "    return np.array(dataset)"
   ]
  },
  {
   "cell_type": "code",
   "execution_count": 34,
   "metadata": {
    "collapsed": false
   },
   "outputs": [
    {
     "data": {
      "text/plain": [
       "1010"
      ]
     },
     "execution_count": 34,
     "metadata": {},
     "output_type": "execute_result"
    }
   ],
   "source": [
    "dataset = build_train_set()\n",
    "\n",
    "len(dataset)"
   ]
  },
  {
   "cell_type": "code",
   "execution_count": 40,
   "metadata": {
    "collapsed": true
   },
   "outputs": [],
   "source": [
    "r = np.random.rand( dataset.shape[0])\n",
    "train = dataset[r<.8]\n",
    "test = dataset[r>=.8]"
   ]
  },
  {
   "cell_type": "code",
   "execution_count": 41,
   "metadata": {
    "collapsed": false
   },
   "outputs": [],
   "source": [
    "train.shape, test.shape\n",
    "x_train = np.array([ img for img in train[:,0]])\n",
    "y_train = train[:,1]\n",
    "\n",
    "x_test = np.array([ img for img in test[:,0]])\n",
    "y_test = test[:,1]\n",
    "\n",
    " \n"
   ]
  },
  {
   "cell_type": "code",
   "execution_count": 42,
   "metadata": {
    "collapsed": false
   },
   "outputs": [
    {
     "name": "stdout",
     "output_type": "stream",
     "text": [
      "x_train shape: (811, 64, 64, 3)\n",
      "811 train samples\n",
      "199 test samples\n",
      "Train on 811 samples, validate on 199 samples\n",
      "Epoch 1/20\n",
      "811/811 [==============================] - 4s - loss: 0.8811 - acc: 0.6831 - val_loss: 0.7394 - val_acc: 0.6784\n",
      "Epoch 2/20\n",
      "811/811 [==============================] - 3s - loss: 0.6167 - acc: 0.7324 - val_loss: 1.0441 - val_acc: 0.6884\n",
      "Epoch 3/20\n",
      "811/811 [==============================] - 3s - loss: 0.4513 - acc: 0.8076 - val_loss: 0.3622 - val_acc: 0.8342\n",
      "Epoch 4/20\n",
      "811/811 [==============================] - 3s - loss: 0.2709 - acc: 0.8866 - val_loss: 0.3443 - val_acc: 0.8643\n",
      "Epoch 5/20\n",
      "811/811 [==============================] - 3s - loss: 0.2045 - acc: 0.9236 - val_loss: 0.1702 - val_acc: 0.9497\n",
      "Epoch 6/20\n",
      "811/811 [==============================] - 3s - loss: 0.1268 - acc: 0.9556 - val_loss: 0.1614 - val_acc: 0.9347\n",
      "Epoch 7/20\n",
      "811/811 [==============================] - 3s - loss: 0.1274 - acc: 0.9507 - val_loss: 0.1045 - val_acc: 0.9598\n",
      "Epoch 8/20\n",
      "811/811 [==============================] - 3s - loss: 0.0785 - acc: 0.9753 - val_loss: 0.1412 - val_acc: 0.9347\n",
      "Epoch 9/20\n",
      "811/811 [==============================] - 3s - loss: 0.0683 - acc: 0.9790 - val_loss: 0.0807 - val_acc: 0.9799\n",
      "Epoch 10/20\n",
      "811/811 [==============================] - 3s - loss: 0.0565 - acc: 0.9815 - val_loss: 0.0552 - val_acc: 0.9799\n",
      "Epoch 11/20\n",
      "811/811 [==============================] - 3s - loss: 0.0388 - acc: 0.9889 - val_loss: 0.0497 - val_acc: 0.9799\n",
      "Epoch 12/20\n",
      "811/811 [==============================] - 3s - loss: 0.0316 - acc: 0.9901 - val_loss: 0.0402 - val_acc: 0.9799\n",
      "Epoch 13/20\n",
      "811/811 [==============================] - 3s - loss: 0.0184 - acc: 0.9938 - val_loss: 0.0541 - val_acc: 0.9799\n",
      "Epoch 14/20\n",
      "811/811 [==============================] - 3s - loss: 0.0212 - acc: 0.9889 - val_loss: 0.0556 - val_acc: 0.9849\n",
      "Epoch 15/20\n",
      "811/811 [==============================] - 3s - loss: 0.0380 - acc: 0.9877 - val_loss: 0.0661 - val_acc: 0.9799\n",
      "Epoch 16/20\n",
      "811/811 [==============================] - 3s - loss: 0.0136 - acc: 0.9963 - val_loss: 0.0647 - val_acc: 0.9849\n",
      "Epoch 17/20\n",
      "811/811 [==============================] - 3s - loss: 0.0215 - acc: 0.9926 - val_loss: 0.0572 - val_acc: 0.9849\n",
      "Epoch 18/20\n",
      "811/811 [==============================] - 4s - loss: 0.0227 - acc: 0.9938 - val_loss: 0.0674 - val_acc: 0.9849\n",
      "Epoch 00017: early stopping\n",
      "Test loss: 0.0673552643161\n",
      "Test accuracy: 0.984924623116\n"
     ]
    }
   ],
   "source": [
    "# input image dimensions\n",
    "img_rows, img_cols = WIDTH, HEIGHT\n",
    "\n",
    "\n",
    "if K.image_data_format() == 'channels_first':\n",
    "    input_shape = (3, img_rows, img_cols)\n",
    "else:\n",
    "    input_shape = (img_rows, img_cols, 3)\n",
    "\n",
    "x_train = x_train.astype('float32')\n",
    "x_test = x_test.astype('float32')\n",
    "x_train /= 255\n",
    "x_test /= 255\n",
    "print('x_train shape:', x_train.shape)\n",
    "print(x_train.shape[0], 'train samples')\n",
    "print(x_test.shape[0], 'test samples')\n",
    "\n",
    "\n",
    "es = EarlyStopping(monitor='val_loss', min_delta=0, patience=5, verbose=1, mode='auto')\n",
    "\n",
    "\n",
    "# convert class vectors to binary class matrices\n",
    "y_train = keras.utils.to_categorical(y_train, num_classes)\n",
    "y_test = keras.utils.to_categorical(y_test, num_classes)\n",
    "\n",
    "model = Sequential()\n",
    "model.add(Conv2D(32, kernel_size=(3, 3),\n",
    "                 activation='relu',\n",
    "                 input_shape=input_shape))\n",
    "\n",
    "model.add(Conv2D(64, (3, 3), activation='relu'))\n",
    "model.add(MaxPooling2D(pool_size=(2, 2)))\n",
    "\n",
    "model.add(Conv2D(128, (3, 3), activation='relu'))\n",
    "model.add(MaxPooling2D(pool_size=(2, 2)))\n",
    "\n",
    "model.add(Dropout(0.25))\n",
    "model.add(Flatten())\n",
    "model.add(Dense(256, activation='relu'))\n",
    "model.add(Dense(128, activation='relu'))\n",
    "model.add(Dropout(0.5))\n",
    "model.add(Dense(num_classes, activation='softmax'))\n",
    "\n",
    "model.compile(loss=keras.losses.categorical_crossentropy,\n",
    "              optimizer=keras.optimizers.Adadelta(),\n",
    "              metrics=['accuracy'])\n",
    "\n",
    "model.fit(x_train, y_train,\n",
    "          batch_size=batch_size,\n",
    "          epochs=epochs,\n",
    "          verbose=1,\n",
    "          validation_data=(x_test, y_test),\n",
    "          callbacks =[es]\n",
    "         )\n",
    "score = model.evaluate(x_test, y_test, verbose=0)\n",
    "print('Test loss:', score[0])\n",
    "print('Test accuracy:', score[1])"
   ]
  },
  {
   "cell_type": "code",
   "execution_count": 43,
   "metadata": {
    "collapsed": false
   },
   "outputs": [],
   "source": [
    "model.save(\"/disk/projects/selfdriving/shared/model/model_3.hd5\")"
   ]
  },
  {
   "cell_type": "code",
   "execution_count": null,
   "metadata": {
    "collapsed": true
   },
   "outputs": [],
   "source": []
  },
  {
   "cell_type": "code",
   "execution_count": 20,
   "metadata": {
    "collapsed": false
   },
   "outputs": [],
   "source": [
    "ret = model.predict( x_train[8].reshape( 1, 64,64,3) )"
   ]
  },
  {
   "cell_type": "code",
   "execution_count": 21,
   "metadata": {
    "collapsed": false
   },
   "outputs": [
    {
     "data": {
      "text/plain": [
       "array([[ 0.04502429,  0.07431913,  0.8806566 ]], dtype=float32)"
      ]
     },
     "execution_count": 21,
     "metadata": {},
     "output_type": "execute_result"
    }
   ],
   "source": [
    "ret"
   ]
  },
  {
   "cell_type": "code",
   "execution_count": 22,
   "metadata": {
    "collapsed": false
   },
   "outputs": [
    {
     "data": {
      "text/plain": [
       "2"
      ]
     },
     "execution_count": 22,
     "metadata": {},
     "output_type": "execute_result"
    }
   ],
   "source": [
    "np.argmax(ret)"
   ]
  },
  {
   "cell_type": "code",
   "execution_count": 46,
   "metadata": {
    "collapsed": false
   },
   "outputs": [
    {
     "data": {
      "text/plain": [
       "<matplotlib.image.AxesImage at 0x7f0a6850a850>"
      ]
     },
     "execution_count": 46,
     "metadata": {},
     "output_type": "execute_result"
    },
    {
     "data": {
      "image/png": "[encoded data removed]",
      "text/plain": [
       "<matplotlib.figure.Figure at 0x7f0a690b8ed0>"
      ]
     },
     "metadata": {},
     "output_type": "display_data"
    }
   ],
   "source": [
    "plt.imshow( x_train[3])"
   ]
  },
  {
   "cell_type": "code",
   "execution_count": 50,
   "metadata": {
    "collapsed": false
   },
   "outputs": [],
   "source": [
    "del model\n",
    "\n",
    "from keras.models import load_model\n",
    "model = load_model(\"/disk/projects/selfdriving/shared/model/model_3.hd5\")"
   ]
  },
  {
   "cell_type": "code",
   "execution_count": 51,
   "metadata": {
    "collapsed": true
   },
   "outputs": [],
   "source": [
    "ret = model.predict( x_train[8].reshape( 1, 64,64,3) )"
   ]
  },
  {
   "cell_type": "code",
   "execution_count": 52,
   "metadata": {
    "collapsed": false
   },
   "outputs": [
    {
     "data": {
      "text/plain": [
       "array([[  9.99998927e-01,   1.05010054e-06,   1.74752901e-09]], dtype=float32)"
      ]
     },
     "execution_count": 52,
     "metadata": {},
     "output_type": "execute_result"
    }
   ],
   "source": [
    "ret\n"
   ]
  }
 ],
 "metadata": {
  "kernelspec": {
   "display_name": "Python 2",
   "language": "python",
   "name": "python2"
  },
  "language_info": {
   "codemirror_mode": {
    "name": "ipython",
    "version": 2
   },
   "file_extension": ".py",
   "mimetype": "text/x-python",
   "name": "python",
   "nbconvert_exporter": "python",
   "pygments_lexer": "ipython2",
   "version": "2.7.6"
  }
 },
 "nbformat": 4,
 "nbformat_minor": 2
}
